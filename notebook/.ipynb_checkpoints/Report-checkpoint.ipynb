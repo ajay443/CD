{
 "cells": [
  {
   "cell_type": "markdown",
   "metadata": {},
   "source": [
    "# Project Report\n",
    "- Sentimental Analysis on Amazon Review(Music Instruments)\n",
    "\n",
    "### By:\n",
    "- Ajay Ramesh\n",
    "- MSCS | IIT Chicago\n",
    "- CS595\n",
    "\n",
    "### Reference\n",
    "- Active Learning with Rationales for Text Classification \n",
    " - Manali Sharma, Di Zhuang and Mustafa Bilgic\n",
    " - http://www.cs.iit.edu/~ml/pdfs/sharma-naaclhlt15.pdf\n",
    " \n",
    "#### Date - 12/3/2017\n",
    "\n",
    "dataset - http://jmcauley.ucsd.edu/data/amazon/\n",
    "\n",
    "#### Musical Instruments  Prodcut Review is used. \n",
    "\n",
    "### Experiment Setup Overview\n",
    "- Derived a small Dataset from 10 Reviews which has all kind of reviews(5, 4, 3, 2, 1 stars)\n",
    "    - Train Dataset  has 527 docs\n",
    "    - Test Dataset has 163 docs\n",
    "    - Created a seperate training and test dataset. Test is not used in any training.\n",
    "- Human Labelled from My friends <b><span style=\"color:purple\">Hemanth and Bashyeam.</span></b>. Around 50 Documents are carefully labelled. \n",
    "- Everything is exported into csv. That is used in this experiment. Please find the data folder for datasets.\n",
    "\n",
    "\n",
    "#### Sections \n",
    "- Section 1: Dataset Description\n",
    "- Section 2: Model Fit Basic                                                   \n",
    "- Section 3: Artificial Labeling\n",
    "- Section 4: Active Learning using Tandem Learning\n",
    "- Section 5: Human Labeled Doc Preview\n",
    "- Section 6: Active Learning with Rationale\n",
    "- Section 8: Future works\n",
    "- Section 9: CD - ByProduct of IML    \n",
    "- Section 10: Tech Stack\n",
    "- Bottomline\n"
   ]
  },
  {
   "cell_type": "markdown",
   "metadata": {},
   "source": [
    "## Section 1: Dataset Description"
   ]
  },
  {
   "cell_type": "markdown",
   "metadata": {},
   "source": [
    "I used the Amazon review dataset on Musical Instuments, which is available in http://jmcauley.ucsd.edu/data/amazon/. The small version is present in data folder. It has below columns with human labelled rationales"
   ]
  },
  {
   "cell_type": "markdown",
   "metadata": {},
   "source": [
    "## Section 2: Model Fit Basic\n",
    "I want to see how it behaves without active learning, so I tested across <b>Logistic Regression and BNB</b>. I choose Logistic Regression for active learning part"
   ]
  },
  {
   "cell_type": "markdown",
   "metadata": {},
   "source": [
    "#### BernoulliNB \n",
    "- Accuarcy - 81.939163498098855 %\n",
    "- AUC  - 100 %"
   ]
  },
  {
   "cell_type": "markdown",
   "metadata": {},
   "source": [
    "#### Logistic Regression"
   ]
  },
  {
   "cell_type": "markdown",
   "metadata": {},
   "source": [
    "#### C = 0.001  \n",
    "- Accuarcy - 65.20 %\n",
    "- AUC  - 61 %\n"
   ]
  },
  {
   "cell_type": "markdown",
   "metadata": {},
   "source": [
    "#### C = 1\n",
    "- Accuarcy - 99.61 %\n",
    "- AUC  - 100 %\n"
   ]
  },
  {
   "cell_type": "markdown",
   "metadata": {},
   "source": [
    "### Top 10 Feature absolute weights  using Logistic Regression:\n",
    "<span style=\"color:red\"> All words does not make sense </span> \n",
    "The words which doesnt not make sense to me are- \n",
    "- by\n",
    "- almost\n",
    "- midi\n",
    "- thick"
   ]
  },
  {
   "cell_type": "markdown",
   "metadata": {},
   "source": [
    "Its absolute weights and features are below"
   ]
  },
  {
   "cell_type": "code",
   "execution_count": 19,
   "metadata": {},
   "outputs": [
    {
     "data": {
      "text/html": [
       "<div>\n",
       "<style>\n",
       "    .dataframe thead tr:only-child th {\n",
       "        text-align: right;\n",
       "    }\n",
       "\n",
       "    .dataframe thead th {\n",
       "        text-align: left;\n",
       "    }\n",
       "\n",
       "    .dataframe tbody tr th {\n",
       "        vertical-align: top;\n",
       "    }\n",
       "</style>\n",
       "<table border=\"1\" class=\"dataframe\">\n",
       "  <thead>\n",
       "    <tr style=\"text-align: right;\">\n",
       "      <th></th>\n",
       "      <th>0</th>\n",
       "      <th>1</th>\n",
       "    </tr>\n",
       "  </thead>\n",
       "  <tbody>\n",
       "    <tr>\n",
       "      <th>0</th>\n",
       "      <td>midi</td>\n",
       "      <td>1.189383</td>\n",
       "    </tr>\n",
       "    <tr>\n",
       "      <th>1</th>\n",
       "      <td>fine</td>\n",
       "      <td>1.072322</td>\n",
       "    </tr>\n",
       "    <tr>\n",
       "      <th>2</th>\n",
       "      <td>noticed</td>\n",
       "      <td>1.045061</td>\n",
       "    </tr>\n",
       "    <tr>\n",
       "      <th>3</th>\n",
       "      <td>came</td>\n",
       "      <td>0.970896</td>\n",
       "    </tr>\n",
       "    <tr>\n",
       "      <th>4</th>\n",
       "      <td>thick</td>\n",
       "      <td>0.925214</td>\n",
       "    </tr>\n",
       "    <tr>\n",
       "      <th>5</th>\n",
       "      <td>just</td>\n",
       "      <td>0.923685</td>\n",
       "    </tr>\n",
       "    <tr>\n",
       "      <th>6</th>\n",
       "      <td>almost</td>\n",
       "      <td>0.870380</td>\n",
       "    </tr>\n",
       "    <tr>\n",
       "      <th>7</th>\n",
       "      <td>equipment</td>\n",
       "      <td>0.860073</td>\n",
       "    </tr>\n",
       "    <tr>\n",
       "      <th>8</th>\n",
       "      <td>noisy</td>\n",
       "      <td>0.859717</td>\n",
       "    </tr>\n",
       "    <tr>\n",
       "      <th>9</th>\n",
       "      <td>by</td>\n",
       "      <td>0.837260</td>\n",
       "    </tr>\n",
       "  </tbody>\n",
       "</table>\n",
       "</div>"
      ],
      "text/plain": [
       "           0         1\n",
       "0       midi  1.189383\n",
       "1       fine  1.072322\n",
       "2    noticed  1.045061\n",
       "3       came  0.970896\n",
       "4      thick  0.925214\n",
       "5       just  0.923685\n",
       "6     almost  0.870380\n",
       "7  equipment  0.860073\n",
       "8      noisy  0.859717\n",
       "9         by  0.837260"
      ]
     },
     "execution_count": 19,
     "metadata": {},
     "output_type": "execute_result"
    }
   ],
   "source": []
  },
  {
   "cell_type": "markdown",
   "metadata": {},
   "source": [
    "### Section 3: Artificial Labeling "
   ]
  },
  {
   "cell_type": "markdown",
   "metadata": {},
   "source": [
    "#### Artificial Labeling using Chi square is used"
   ]
  },
  {
   "cell_type": "markdown",
   "metadata": {},
   "source": [
    "<span style=\"color:green\"> Top 10 Positive Words  </span> "
   ]
  },
  {
   "cell_type": "code",
   "execution_count": 24,
   "metadata": {},
   "outputs": [
    {
     "data": {
      "text/html": [
       "<div>\n",
       "<style>\n",
       "    .dataframe thead tr:only-child th {\n",
       "        text-align: right;\n",
       "    }\n",
       "\n",
       "    .dataframe thead th {\n",
       "        text-align: left;\n",
       "    }\n",
       "\n",
       "    .dataframe tbody tr th {\n",
       "        vertical-align: top;\n",
       "    }\n",
       "</style>\n",
       "<table border=\"1\" class=\"dataframe\">\n",
       "  <thead>\n",
       "    <tr style=\"text-align: right;\">\n",
       "      <th></th>\n",
       "      <th>0</th>\n",
       "    </tr>\n",
       "  </thead>\n",
       "  <tbody>\n",
       "    <tr>\n",
       "      <th>32</th>\n",
       "      <td>amazon</td>\n",
       "    </tr>\n",
       "    <tr>\n",
       "      <th>683</th>\n",
       "      <td>pop</td>\n",
       "    </tr>\n",
       "    <tr>\n",
       "      <th>365</th>\n",
       "      <td>good</td>\n",
       "    </tr>\n",
       "    <tr>\n",
       "      <th>694</th>\n",
       "      <td>pretty</td>\n",
       "    </tr>\n",
       "    <tr>\n",
       "      <th>748</th>\n",
       "      <td>reviews</td>\n",
       "    </tr>\n",
       "    <tr>\n",
       "      <th>278</th>\n",
       "      <td>especially</td>\n",
       "    </tr>\n",
       "    <tr>\n",
       "      <th>690</th>\n",
       "      <td>practice</td>\n",
       "    </tr>\n",
       "    <tr>\n",
       "      <th>206</th>\n",
       "      <td>cutter</td>\n",
       "    </tr>\n",
       "    <tr>\n",
       "      <th>1006</th>\n",
       "      <td>with</td>\n",
       "    </tr>\n",
       "    <tr>\n",
       "      <th>934</th>\n",
       "      <td>try</td>\n",
       "    </tr>\n",
       "  </tbody>\n",
       "</table>\n",
       "</div>"
      ],
      "text/plain": [
       "               0\n",
       "32        amazon\n",
       "683          pop\n",
       "365         good\n",
       "694       pretty\n",
       "748      reviews\n",
       "278   especially\n",
       "690     practice\n",
       "206       cutter\n",
       "1006        with\n",
       "934          try"
      ]
     },
     "execution_count": 24,
     "metadata": {},
     "output_type": "execute_result"
    }
   ],
   "source": [
    "pd.DataFrame(pos_words[:10])"
   ]
  },
  {
   "cell_type": "markdown",
   "metadata": {},
   "source": [
    "<span style=\"color:red\"> Top 10 negative Words  </span> "
   ]
  },
  {
   "cell_type": "code",
   "execution_count": 25,
   "metadata": {},
   "outputs": [
    {
     "data": {
      "text/html": [
       "<div>\n",
       "<style>\n",
       "    .dataframe thead tr:only-child th {\n",
       "        text-align: right;\n",
       "    }\n",
       "\n",
       "    .dataframe thead th {\n",
       "        text-align: left;\n",
       "    }\n",
       "\n",
       "    .dataframe tbody tr th {\n",
       "        vertical-align: top;\n",
       "    }\n",
       "</style>\n",
       "<table border=\"1\" class=\"dataframe\">\n",
       "  <thead>\n",
       "    <tr style=\"text-align: right;\">\n",
       "      <th></th>\n",
       "      <th>0</th>\n",
       "    </tr>\n",
       "  </thead>\n",
       "  <tbody>\n",
       "    <tr>\n",
       "      <th>961</th>\n",
       "      <td>useless</td>\n",
       "    </tr>\n",
       "    <tr>\n",
       "      <th>545</th>\n",
       "      <td>midi</td>\n",
       "    </tr>\n",
       "    <tr>\n",
       "      <th>190</th>\n",
       "      <td>control</td>\n",
       "    </tr>\n",
       "    <tr>\n",
       "      <th>540</th>\n",
       "      <td>mic</td>\n",
       "    </tr>\n",
       "    <tr>\n",
       "      <th>558</th>\n",
       "      <td>monster</td>\n",
       "    </tr>\n",
       "    <tr>\n",
       "      <th>543</th>\n",
       "      <td>mics</td>\n",
       "    </tr>\n",
       "    <tr>\n",
       "      <th>588</th>\n",
       "      <td>noisy</td>\n",
       "    </tr>\n",
       "    <tr>\n",
       "      <th>984</th>\n",
       "      <td>week</td>\n",
       "    </tr>\n",
       "    <tr>\n",
       "      <th>618</th>\n",
       "      <td>opinion</td>\n",
       "    </tr>\n",
       "    <tr>\n",
       "      <th>724</th>\n",
       "      <td>read</td>\n",
       "    </tr>\n",
       "  </tbody>\n",
       "</table>\n",
       "</div>"
      ],
      "text/plain": [
       "           0\n",
       "961  useless\n",
       "545     midi\n",
       "190  control\n",
       "540      mic\n",
       "558  monster\n",
       "543     mics\n",
       "588    noisy\n",
       "984     week\n",
       "618  opinion\n",
       "724     read"
      ]
     },
     "execution_count": 25,
     "metadata": {},
     "output_type": "execute_result"
    }
   ],
   "source": [
    "pd.DataFrame(neg_words[:10])"
   ]
  },
  {
   "cell_type": "markdown",
   "metadata": {},
   "source": [
    "### Section 4: Active Learning using  Tandem Learning \n",
    "\n",
    "Every document which has top positive word and negative word is multiplied with <b>r</b>"
   ]
  },
  {
   "cell_type": "code",
   "execution_count": 26,
   "metadata": {
    "collapsed": true
   },
   "outputs": [],
   "source": [
    "r = 1\n",
    "o = 0.01"
   ]
  },
  {
   "cell_type": "code",
   "execution_count": 43,
   "metadata": {},
   "outputs": [
    {
     "data": {
      "text/plain": [
       "<matplotlib.legend.Legend at 0x10bed7b00>"
      ]
     },
     "execution_count": 43,
     "metadata": {},
     "output_type": "execute_result"
    },
    {
     "data": {
      "image/png": "[encoded data removed]",
      "text/plain": [
       "<matplotlib.figure.Figure at 0x1122c28d0>"
      ]
     },
     "metadata": {},
     "output_type": "display_data"
    }
   ],
   "source": []
  },
  {
   "cell_type": "code",
   "execution_count": 44,
   "metadata": {},
   "outputs": [
    {
     "data": {
      "text/plain": [
       "<matplotlib.legend.Legend at 0x115b07cc0>"
      ]
     },
     "execution_count": 44,
     "metadata": {},
     "output_type": "execute_result"
    },
    {
     "data": {
      "image/png": "[encoded data removed]",
      "text/plain": [
       "<matplotlib.figure.Figure at 0x11210f6a0>"
      ]
     },
     "metadata": {},
     "output_type": "display_data"
    }
   ],
   "source": [
    "plt.title(\"AUC Score across Tandem with/out rational\")\n",
    "plt.plot(x_ax, t_no_rational[1],  'r-',label=\"Tandem Without Rationale\")\n",
    "plt.plot(x_ax, t_with_rational[1],  'b-',label=\"Tandem With Rationale\")\n",
    "plt.legend()"
   ]
  },
  {
   "cell_type": "markdown",
   "metadata": {},
   "source": [
    "###  Section 5: Human Labeled Doc Preview"
   ]
  },
  {
   "cell_type": "markdown",
   "metadata": {},
   "source": [
    "- Said to lable at max 3-7 words. \n",
    "- on average they marked 5 words"
   ]
  },
  {
   "cell_type": "markdown",
   "metadata": {},
   "source": [
    "<p>\"Not much to write about here, but it does <b style=\"color:red\">exactly</b> what it's supposed to. filters out the pop sounds. now my recordings are much more  <b style=\"color:red\">crisp</b>. it is one of the  <b style=\"color:red\">lowest</b> prices pop filters on amazon so might as well buy it, they honestly work the same despite their pricing,\"</p>"
   ]
  },
  {
   "cell_type": "code",
   "execution_count": 53,
   "metadata": {},
   "outputs": [
    {
     "data": {
      "text/html": [
       "<div>\n",
       "<style>\n",
       "    .dataframe thead tr:only-child th {\n",
       "        text-align: right;\n",
       "    }\n",
       "\n",
       "    .dataframe thead th {\n",
       "        text-align: left;\n",
       "    }\n",
       "\n",
       "    .dataframe tbody tr th {\n",
       "        vertical-align: top;\n",
       "    }\n",
       "</style>\n",
       "<table border=\"1\" class=\"dataframe\">\n",
       "  <thead>\n",
       "    <tr style=\"text-align: right;\">\n",
       "      <th></th>\n",
       "      <th>ReviewText</th>\n",
       "      <th>Rationales</th>\n",
       "      <th>Y</th>\n",
       "    </tr>\n",
       "  </thead>\n",
       "  <tbody>\n",
       "    <tr>\n",
       "      <th>0</th>\n",
       "      <td>Not much to write about here, but it does exac...</td>\n",
       "      <td>exactly,crisp,lowest,,,,,</td>\n",
       "      <td>False</td>\n",
       "    </tr>\n",
       "    <tr>\n",
       "      <th>1</th>\n",
       "      <td>The product does exactly as it should and is q...</td>\n",
       "      <td>does,affordable,,,,,,</td>\n",
       "      <td>False</td>\n",
       "    </tr>\n",
       "    <tr>\n",
       "      <th>2</th>\n",
       "      <td>The primary job of this device is to block the...</td>\n",
       "      <td>no,noticeable,reduction,secure,,,,</td>\n",
       "      <td>False</td>\n",
       "    </tr>\n",
       "    <tr>\n",
       "      <th>3</th>\n",
       "      <td>Nice windscreen protects my MXL mic and preven...</td>\n",
       "      <td>prevents,pops,,,,,,</td>\n",
       "      <td>False</td>\n",
       "    </tr>\n",
       "    <tr>\n",
       "      <th>4</th>\n",
       "      <td>This pop filter is great. It looks and perform...</td>\n",
       "      <td>great,looks,performs,eliminate,pops,,,</td>\n",
       "      <td>False</td>\n",
       "    </tr>\n",
       "  </tbody>\n",
       "</table>\n",
       "</div>"
      ],
      "text/plain": [
       "                                          ReviewText  \\\n",
       "0  Not much to write about here, but it does exac...   \n",
       "1  The product does exactly as it should and is q...   \n",
       "2  The primary job of this device is to block the...   \n",
       "3  Nice windscreen protects my MXL mic and preven...   \n",
       "4  This pop filter is great. It looks and perform...   \n",
       "\n",
       "                               Rationales      Y  \n",
       "0               exactly,crisp,lowest,,,,,  False  \n",
       "1                   does,affordable,,,,,,  False  \n",
       "2      no,noticeable,reduction,secure,,,,  False  \n",
       "3                     prevents,pops,,,,,,  False  \n",
       "4  great,looks,performs,eliminate,pops,,,  False  "
      ]
     },
     "execution_count": 53,
     "metadata": {},
     "output_type": "execute_result"
    }
   ],
   "source": [
    "L_docs.head()"
   ]
  },
  {
   "cell_type": "markdown",
   "metadata": {},
   "source": [
    "<h3 style=\"color:green\">Section 6: Active Learning with Rationale</h3>"
   ]
  },
  {
   "cell_type": "code",
   "execution_count": 74,
   "metadata": {},
   "outputs": [
    {
     "data": {
      "text/plain": [
       "<matplotlib.legend.Legend at 0x11a9f2668>"
      ]
     },
     "execution_count": 74,
     "metadata": {},
     "output_type": "execute_result"
    },
    {
     "data": {
      "image/png": "[encoded data removed]",
      "text/plain": [
       "<matplotlib.figure.Figure at 0x11a9132b0>"
      ]
     },
     "metadata": {},
     "output_type": "display_data"
    }
   ],
   "source": []
  },
  {
   "cell_type": "markdown",
   "metadata": {},
   "source": [
    "### Section 7: Conclusion: Transparency Overview"
   ]
  },
  {
   "cell_type": "markdown",
   "metadata": {},
   "source": [
    "LwR has great transparency below tabel sumarizes it "
   ]
  },
  {
   "cell_type": "code",
   "execution_count": 76,
   "metadata": {},
   "outputs": [
    {
     "data": {
      "text/html": [
       "<div>\n",
       "<style>\n",
       "    .dataframe thead tr:only-child th {\n",
       "        text-align: right;\n",
       "    }\n",
       "\n",
       "    .dataframe thead th {\n",
       "        text-align: left;\n",
       "    }\n",
       "\n",
       "    .dataframe tbody tr th {\n",
       "        vertical-align: top;\n",
       "    }\n",
       "</style>\n",
       "<table border=\"1\" class=\"dataframe\">\n",
       "  <thead>\n",
       "    <tr style=\"text-align: right;\">\n",
       "      <th></th>\n",
       "      <th>Tandem (rational, artificial labeler)</th>\n",
       "      <th>Weights</th>\n",
       "      <th>Tandem(no rational)</th>\n",
       "      <th>Weights</th>\n",
       "      <th>LwR(Human Labelled)</th>\n",
       "      <th>Weights</th>\n",
       "      <th>LwoR</th>\n",
       "      <th>Weights</th>\n",
       "    </tr>\n",
       "  </thead>\n",
       "  <tbody>\n",
       "    <tr>\n",
       "      <th>0</th>\n",
       "      <td>and</td>\n",
       "      <td>0.035263</td>\n",
       "      <td>on</td>\n",
       "      <td>0.011774</td>\n",
       "      <td>great</td>\n",
       "      <td>0.002962</td>\n",
       "      <td>on</td>\n",
       "      <td>0.011758</td>\n",
       "    </tr>\n",
       "    <tr>\n",
       "      <th>1</th>\n",
       "      <td>by</td>\n",
       "      <td>0.025491</td>\n",
       "      <td>to</td>\n",
       "      <td>0.008361</td>\n",
       "      <td>good</td>\n",
       "      <td>0.002933</td>\n",
       "      <td>to</td>\n",
       "      <td>0.008355</td>\n",
       "    </tr>\n",
       "    <tr>\n",
       "      <th>2</th>\n",
       "      <td>with</td>\n",
       "      <td>0.025165</td>\n",
       "      <td>get</td>\n",
       "      <td>0.008341</td>\n",
       "      <td>quality</td>\n",
       "      <td>0.001477</td>\n",
       "      <td>get</td>\n",
       "      <td>0.008337</td>\n",
       "    </tr>\n",
       "    <tr>\n",
       "      <th>3</th>\n",
       "      <td>opinion</td>\n",
       "      <td>0.018606</td>\n",
       "      <td>have</td>\n",
       "      <td>0.008263</td>\n",
       "      <td>well</td>\n",
       "      <td>0.001457</td>\n",
       "      <td>have</td>\n",
       "      <td>0.008261</td>\n",
       "    </tr>\n",
       "    <tr>\n",
       "      <th>4</th>\n",
       "      <td>its</td>\n",
       "      <td>0.015229</td>\n",
       "      <td>can</td>\n",
       "      <td>0.008082</td>\n",
       "      <td>cables</td>\n",
       "      <td>0.001030</td>\n",
       "      <td>in</td>\n",
       "      <td>0.007907</td>\n",
       "    </tr>\n",
       "    <tr>\n",
       "      <th>5</th>\n",
       "      <td>good</td>\n",
       "      <td>0.014789</td>\n",
       "      <td>in</td>\n",
       "      <td>0.007987</td>\n",
       "      <td>higher</td>\n",
       "      <td>0.001015</td>\n",
       "      <td>for</td>\n",
       "      <td>0.007708</td>\n",
       "    </tr>\n",
       "    <tr>\n",
       "      <th>6</th>\n",
       "      <td>control</td>\n",
       "      <td>0.010322</td>\n",
       "      <td>for</td>\n",
       "      <td>0.007722</td>\n",
       "      <td>horrible</td>\n",
       "      <td>0.001010</td>\n",
       "      <td>and</td>\n",
       "      <td>0.007377</td>\n",
       "    </tr>\n",
       "    <tr>\n",
       "      <th>7</th>\n",
       "      <td>has</td>\n",
       "      <td>0.008529</td>\n",
       "      <td>and</td>\n",
       "      <td>0.007383</td>\n",
       "      <td>doesnt</td>\n",
       "      <td>0.001005</td>\n",
       "      <td>can</td>\n",
       "      <td>0.006902</td>\n",
       "    </tr>\n",
       "    <tr>\n",
       "      <th>8</th>\n",
       "      <td>there</td>\n",
       "      <td>0.008044</td>\n",
       "      <td>other</td>\n",
       "      <td>0.006749</td>\n",
       "      <td>looks</td>\n",
       "      <td>0.001004</td>\n",
       "      <td>other</td>\n",
       "      <td>0.006714</td>\n",
       "    </tr>\n",
       "    <tr>\n",
       "      <th>9</th>\n",
       "      <td>sm</td>\n",
       "      <td>0.007816</td>\n",
       "      <td>little</td>\n",
       "      <td>0.006409</td>\n",
       "      <td>recommended</td>\n",
       "      <td>0.000995</td>\n",
       "      <td>little</td>\n",
       "      <td>0.006414</td>\n",
       "    </tr>\n",
       "  </tbody>\n",
       "</table>\n",
       "</div>"
      ],
      "text/plain": [
       "  Tandem (rational, artificial labeler)   Weights Tandem(no rational)  \\\n",
       "0                                   and  0.035263                  on   \n",
       "1                                    by  0.025491                  to   \n",
       "2                                  with  0.025165                 get   \n",
       "3                               opinion  0.018606                have   \n",
       "4                                   its  0.015229                 can   \n",
       "5                                  good  0.014789                  in   \n",
       "6                               control  0.010322                 for   \n",
       "7                                   has  0.008529                 and   \n",
       "8                                 there  0.008044               other   \n",
       "9                                    sm  0.007816              little   \n",
       "\n",
       "    Weights LwR(Human Labelled)   Weights    LwoR   Weights  \n",
       "0  0.011774               great  0.002962      on  0.011758  \n",
       "1  0.008361                good  0.002933      to  0.008355  \n",
       "2  0.008341             quality  0.001477     get  0.008337  \n",
       "3  0.008263                well  0.001457    have  0.008261  \n",
       "4  0.008082              cables  0.001030      in  0.007907  \n",
       "5  0.007987              higher  0.001015     for  0.007708  \n",
       "6  0.007722            horrible  0.001010     and  0.007377  \n",
       "7  0.007383              doesnt  0.001005     can  0.006902  \n",
       "8  0.006749               looks  0.001004   other  0.006714  \n",
       "9  0.006409         recommended  0.000995  little  0.006414  "
      ]
     },
     "execution_count": 76,
     "metadata": {},
     "output_type": "execute_result"
    }
   ],
   "source": [
    "FW"
   ]
  },
  {
   "cell_type": "markdown",
   "metadata": {},
   "source": [
    "### Section 8: Future works\n",
    "- Logistic Regression is choosed just for simplicity. But in future try other models.\n",
    "- Scale the dataset. Here I Used a small version of dataset\n",
    "- Collect Rationales more using Uncertainity Sampling\n",
    "- Extend the Web-APP UI to hold deletion.\n",
    "- Try Learning with Explanation"
   ]
  },
  {
   "cell_type": "markdown",
   "metadata": {},
   "source": [
    "### Section 9: CD - ByProduct of IML"
   ]
  },
  {
   "cell_type": "markdown",
   "metadata": {},
   "source": [
    "- CD stands for <span style=\"color:purple\">Create Dataset</span>.\n",
    "- Do we understand <b>fdsajfiowrjl jweiorj lwekrjoweire</b> text? \n",
    " - I don’t because I don’t know what language it is, also I don’t know what is the grammar to understand it. Likewise, Machine learning can’t understand random representation. So I see the bag of words model is not great for text classification. So we need to represent a good way such that ML can understand. \n",
    "- The transparency achieved by LwR is great by Human Labelling part.\n",
    "- I created simple flask UI which aims to create dataset for text classification for IML. Check the demo.mov on how to label it using that UI."
   ]
  },
  {
   "cell_type": "markdown",
   "metadata": {},
   "source": [
    "### Section 10: Tech Stack\n",
    "- Web is developed using Python Flask and Html.\n",
    "- Jupyter notebook with sklearn"
   ]
  },
  {
   "cell_type": "markdown",
   "metadata": {},
   "source": [
    "# Bottomline\n",
    "\n",
    "My primary motivation is understand the text, which will solve many problems today. After going through the text classification studies I see we can’t use Machine learning(For Risk Domains) with bag-of-words model which is based on pure statistics, that does not mean  we have to  trash Machine Learning, instead we need to re-define how we represent the text. \n",
    "\n",
    "\n",
    "For text classification, I think we need to enhance how we  represent text. How about an Natural Language Processing API which gives context or group of words which are important to it. No doubt LwR(learning with rationale) and LwE(learning with Explanations) will work great if the underlying representation of text is meaningful.\n",
    "    \n",
    "More labels from Human than artifical will be transparent and trustworthy."
   ]
  }
 ],
 "metadata": {
  "kernelspec": {
   "display_name": "Python 3",
   "language": "python",
   "name": "python3"
  },
  "language_info": {
   "codemirror_mode": {
    "name": "ipython",
    "version": 3
   },
   "file_extension": ".py",
   "mimetype": "text/x-python",
   "name": "python",
   "nbconvert_exporter": "python",
   "pygments_lexer": "ipython3",
   "version": "3.6.1"
  }
 },
 "nbformat": 4,
 "nbformat_minor": 2
}
